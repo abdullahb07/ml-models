{
  "cells": [
    {
      "cell_type": "markdown",
      "metadata": {
        "id": "view-in-github",
        "colab_type": "text"
      },
      "source": [
        "<a href=\"https://colab.research.google.com/github/abdullahb07/ml-models/blob/main/Copy_of_M1_Assignment_Stock_Price_Prediction_with_LLM.ipynb\" target=\"_parent\"><img src=\"https://colab.research.google.com/assets/colab-badge.svg\" alt=\"Open In Colab\"/></a>"
      ]
    },
    {
      "cell_type": "markdown",
      "metadata": {
        "id": "3XRCzVcg8qq6"
      },
      "source": [
        "# Module 1 No Code/Low Code Assignment: Stock Price Prediction with LLM (Using Gemini in Colab)\n",
        "\n",
        "This assignment explores how large language models (LLMs) can perform complex tasks that previously required coding. Instead of manually writing code, we will interact with Google's Gemini (Click on the Gemini icon on the top right corner) in Google Colab to:\n",
        "\n",
        "- Load and analyze stock price data.\n",
        "- Engineer relevant features for prediction.\n",
        "- Build and evaluate models such as regression and random forest.\n",
        "- Discuss potential trading strategies based on predictions.\n",
        "\n",
        "**Note**: While this notebook contains example code, students are encouraged to use LLMs to generate code snippets and explanations, managing interactions within the LLM's context window.\n",
        "\n",
        "## Task Breakdown\n",
        "\n",
        "### Step 1: Data Exploration\n",
        "- **Prompt the LLM**: Load historical stock price data for Apple Inc. (AAPL) from 2020-01-01 to 2023-01-01 using Yahoo Finance.\n",
        "- **Key Considerations**: Ensure the model retains context while summarizing key statistics.\n",
        "\n",
        "### Step 2: Feature Engineering\n",
        "- **Prompt the LLM**: Generate meaningful features such as moving averages, technical indicators, and volatility measures.\n",
        "- **Managing Context**: If the LLM forgets prior outputs, remind it by reintroducing key statistics.\n",
        "\n",
        "### Step 3: Model Building\n",
        "- **Prompt the LLM**: Train a model (regression for price prediction, random forest for trend classification).\n",
        "- **Split Ratio Consideration**: Explain the importance of train-test split (e.g., 70/30) and verify the LLM respects it.\n",
        "\n",
        "### Step 4: Model Evaluation & Prediction\n",
        "- **Prompt the LLM**: Use the trained model to predict stock prices for 2023-2024.\n",
        "- **Analyze Performance**: Interpret accuracy, R² scores, and classification reports.\n",
        "\n",
        "### Step 5: Strategy Discussion\n",
        "- **Prompt the LLM**: Based on model performance, discuss possible trading strategies.\n",
        "- **Critical Thinking**: Evaluate whether the model is truly useful for financial decision-making.\n",
        "\n",
        "---\n",
        "\n",
        "Throughout the assignment, keep in mind that LLMs have a limited context window. If necessary, break down tasks into smaller chunks and reintroduce critical information.\n",
        "\n"
      ]
    },
    {
      "cell_type": "markdown",
      "metadata": {
        "id": "1_csYjq8h7yt"
      },
      "source": [
        "## Using Gemini in Colab\n",
        "\n",
        "To use Gemini directly in your browser within Google Colab:\n",
        "\n",
        "1. **Create a new code cell** by clicking the `+ Code` button.\n",
        "2. In the newly created cell, you will see a placeholder text: **\"Start coding or generate with AI\"**.\n",
        "3. Click on **\"Generate\"** and enter your prompt, such as:\n",
        "   > \"Load historical stock price data for Apple Inc. (AAPL) from 2020-01-01 to 2023-01-01 using Yahoo Finance and summarize its key statistics.\"\n",
        "4. Gemini will generate code based on your prompt. You can then review, modify, and run it within the notebook.\n",
        "5. If the model loses context, you may need to remind it of previous responses or break down tasks into smaller steps.\n",
        "\n",
        "This method allows you to interactively generate and refine code without manually writing every line.\n"
      ]
    },
    {
      "cell_type": "code",
      "execution_count": 34,
      "metadata": {
        "id": "iMgjTlOjk05n",
        "colab": {
          "base_uri": "https://localhost:8080/"
        },
        "outputId": "718c6e60-fcd3-4d78-ed16-f94be619c766"
      },
      "outputs": [
        {
          "output_type": "stream",
          "name": "stdout",
          "text": [
            "Requirement already satisfied: yfinance in /usr/local/lib/python3.11/dist-packages (0.2.65)\n",
            "Requirement already satisfied: pandas>=1.3.0 in /usr/local/lib/python3.11/dist-packages (from yfinance) (2.2.2)\n",
            "Requirement already satisfied: numpy>=1.16.5 in /usr/local/lib/python3.11/dist-packages (from yfinance) (2.0.2)\n",
            "Requirement already satisfied: requests>=2.31 in /usr/local/lib/python3.11/dist-packages (from yfinance) (2.32.3)\n",
            "Requirement already satisfied: multitasking>=0.0.7 in /usr/local/lib/python3.11/dist-packages (from yfinance) (0.0.11)\n",
            "Requirement already satisfied: platformdirs>=2.0.0 in /usr/local/lib/python3.11/dist-packages (from yfinance) (4.3.8)\n",
            "Requirement already satisfied: pytz>=2022.5 in /usr/local/lib/python3.11/dist-packages (from yfinance) (2025.2)\n",
            "Requirement already satisfied: frozendict>=2.3.4 in /usr/local/lib/python3.11/dist-packages (from yfinance) (2.4.6)\n",
            "Requirement already satisfied: peewee>=3.16.2 in /usr/local/lib/python3.11/dist-packages (from yfinance) (3.18.2)\n",
            "Requirement already satisfied: beautifulsoup4>=4.11.1 in /usr/local/lib/python3.11/dist-packages (from yfinance) (4.13.4)\n",
            "Requirement already satisfied: curl_cffi>=0.7 in /usr/local/lib/python3.11/dist-packages (from yfinance) (0.12.0)\n",
            "Requirement already satisfied: protobuf>=3.19.0 in /usr/local/lib/python3.11/dist-packages (from yfinance) (5.29.5)\n",
            "Requirement already satisfied: websockets>=13.0 in /usr/local/lib/python3.11/dist-packages (from yfinance) (15.0.1)\n",
            "Requirement already satisfied: soupsieve>1.2 in /usr/local/lib/python3.11/dist-packages (from beautifulsoup4>=4.11.1->yfinance) (2.7)\n",
            "Requirement already satisfied: typing-extensions>=4.0.0 in /usr/local/lib/python3.11/dist-packages (from beautifulsoup4>=4.11.1->yfinance) (4.14.1)\n",
            "Requirement already satisfied: cffi>=1.12.0 in /usr/local/lib/python3.11/dist-packages (from curl_cffi>=0.7->yfinance) (1.17.1)\n",
            "Requirement already satisfied: certifi>=2024.2.2 in /usr/local/lib/python3.11/dist-packages (from curl_cffi>=0.7->yfinance) (2025.7.14)\n",
            "Requirement already satisfied: python-dateutil>=2.8.2 in /usr/local/lib/python3.11/dist-packages (from pandas>=1.3.0->yfinance) (2.9.0.post0)\n",
            "Requirement already satisfied: tzdata>=2022.7 in /usr/local/lib/python3.11/dist-packages (from pandas>=1.3.0->yfinance) (2025.2)\n",
            "Requirement already satisfied: charset-normalizer<4,>=2 in /usr/local/lib/python3.11/dist-packages (from requests>=2.31->yfinance) (3.4.2)\n",
            "Requirement already satisfied: idna<4,>=2.5 in /usr/local/lib/python3.11/dist-packages (from requests>=2.31->yfinance) (3.10)\n",
            "Requirement already satisfied: urllib3<3,>=1.21.1 in /usr/local/lib/python3.11/dist-packages (from requests>=2.31->yfinance) (2.5.0)\n",
            "Requirement already satisfied: pycparser in /usr/local/lib/python3.11/dist-packages (from cffi>=1.12.0->curl_cffi>=0.7->yfinance) (2.22)\n",
            "Requirement already satisfied: six>=1.5 in /usr/local/lib/python3.11/dist-packages (from python-dateutil>=2.8.2->pandas>=1.3.0->yfinance) (1.17.0)\n"
          ]
        },
        {
          "output_type": "stream",
          "name": "stderr",
          "text": [
            "/tmp/ipython-input-34-1495478674.py:9: FutureWarning: YF.download() has changed argument auto_adjust default to True\n",
            "  data = yf.download(\"AAPL\", start=\"2019-01-01\", end=\"2023-01-01\")\n",
            "\r[*********************100%***********************]  1 of 1 completed"
          ]
        },
        {
          "output_type": "stream",
          "name": "stdout",
          "text": [
            "Price         Close         High          Low         Open        Volume\n",
            "Ticker         AAPL         AAPL         AAPL         AAPL          AAPL\n",
            "count   1008.000000  1008.000000  1008.000000  1008.000000  1.008000e+03\n",
            "mean     108.238322   109.494262   106.872874   108.156611  1.120997e+08\n",
            "std       42.912798    43.456870    42.358244    42.930863  5.310973e+07\n",
            "min       33.870827    34.711701    33.825567    34.297218  3.519590e+07\n",
            "25%       64.530735    65.189512    63.730465    64.412146  7.755390e+07\n",
            "50%      120.808475   122.041300   119.235587   120.879095  9.693830e+07\n",
            "75%      144.630890   146.087770   142.759991   144.422373  1.290616e+08\n",
            "max      178.645630   179.558473   175.809076   179.254206  4.265100e+08\n"
          ]
        },
        {
          "output_type": "stream",
          "name": "stderr",
          "text": [
            "\n"
          ]
        }
      ],
      "source": [
        "# prompt: Load historical stock price data for Apple Inc. (AAPL) from 2020-01-01 to 2023-01-01 using Yahoo Finance and summarize its key statistics.\n",
        "\n",
        "!pip install yfinance\n",
        "\n",
        "import yfinance as yf\n",
        "import pandas as pd\n",
        "\n",
        "# Download historical data for AAPL\n",
        "data = yf.download(\"AAPL\", start=\"2019-01-01\", end=\"2023-01-01\")\n",
        "\n",
        "# Display summary statistics\n",
        "print(data.describe())"
      ]
    },
    {
      "cell_type": "code",
      "source": [],
      "metadata": {
        "id": "nnejG-5McxRx"
      },
      "execution_count": 6,
      "outputs": []
    },
    {
      "cell_type": "code",
      "execution_count": 12,
      "metadata": {
        "colab": {
          "base_uri": "https://localhost:8080/"
        },
        "id": "qKaqonJh7rMO",
        "outputId": "8896bb2a-7d80-48d3-bc40-36814642cd7d"
      },
      "outputs": [
        {
          "output_type": "stream",
          "name": "stdout",
          "text": [
            "Requirement already satisfied: yfinance in /usr/local/lib/python3.11/dist-packages (0.2.65)\n",
            "Requirement already satisfied: pandas>=1.3.0 in /usr/local/lib/python3.11/dist-packages (from yfinance) (2.2.2)\n",
            "Requirement already satisfied: numpy>=1.16.5 in /usr/local/lib/python3.11/dist-packages (from yfinance) (2.0.2)\n",
            "Requirement already satisfied: requests>=2.31 in /usr/local/lib/python3.11/dist-packages (from yfinance) (2.32.3)\n",
            "Requirement already satisfied: multitasking>=0.0.7 in /usr/local/lib/python3.11/dist-packages (from yfinance) (0.0.11)\n",
            "Requirement already satisfied: platformdirs>=2.0.0 in /usr/local/lib/python3.11/dist-packages (from yfinance) (4.3.8)\n",
            "Requirement already satisfied: pytz>=2022.5 in /usr/local/lib/python3.11/dist-packages (from yfinance) (2025.2)\n",
            "Requirement already satisfied: frozendict>=2.3.4 in /usr/local/lib/python3.11/dist-packages (from yfinance) (2.4.6)\n",
            "Requirement already satisfied: peewee>=3.16.2 in /usr/local/lib/python3.11/dist-packages (from yfinance) (3.18.2)\n",
            "Requirement already satisfied: beautifulsoup4>=4.11.1 in /usr/local/lib/python3.11/dist-packages (from yfinance) (4.13.4)\n",
            "Requirement already satisfied: curl_cffi>=0.7 in /usr/local/lib/python3.11/dist-packages (from yfinance) (0.12.0)\n",
            "Requirement already satisfied: protobuf>=3.19.0 in /usr/local/lib/python3.11/dist-packages (from yfinance) (5.29.5)\n",
            "Requirement already satisfied: websockets>=13.0 in /usr/local/lib/python3.11/dist-packages (from yfinance) (15.0.1)\n",
            "Requirement already satisfied: soupsieve>1.2 in /usr/local/lib/python3.11/dist-packages (from beautifulsoup4>=4.11.1->yfinance) (2.7)\n",
            "Requirement already satisfied: typing-extensions>=4.0.0 in /usr/local/lib/python3.11/dist-packages (from beautifulsoup4>=4.11.1->yfinance) (4.14.1)\n",
            "Requirement already satisfied: cffi>=1.12.0 in /usr/local/lib/python3.11/dist-packages (from curl_cffi>=0.7->yfinance) (1.17.1)\n",
            "Requirement already satisfied: certifi>=2024.2.2 in /usr/local/lib/python3.11/dist-packages (from curl_cffi>=0.7->yfinance) (2025.7.14)\n",
            "Requirement already satisfied: python-dateutil>=2.8.2 in /usr/local/lib/python3.11/dist-packages (from pandas>=1.3.0->yfinance) (2.9.0.post0)\n",
            "Requirement already satisfied: tzdata>=2022.7 in /usr/local/lib/python3.11/dist-packages (from pandas>=1.3.0->yfinance) (2025.2)\n",
            "Requirement already satisfied: charset-normalizer<4,>=2 in /usr/local/lib/python3.11/dist-packages (from requests>=2.31->yfinance) (3.4.2)\n",
            "Requirement already satisfied: idna<4,>=2.5 in /usr/local/lib/python3.11/dist-packages (from requests>=2.31->yfinance) (3.10)\n",
            "Requirement already satisfied: urllib3<3,>=1.21.1 in /usr/local/lib/python3.11/dist-packages (from requests>=2.31->yfinance) (2.5.0)\n",
            "Requirement already satisfied: pycparser in /usr/local/lib/python3.11/dist-packages (from cffi>=1.12.0->curl_cffi>=0.7->yfinance) (2.22)\n",
            "Requirement already satisfied: six>=1.5 in /usr/local/lib/python3.11/dist-packages (from python-dateutil>=2.8.2->pandas>=1.3.0->yfinance) (1.17.0)\n"
          ]
        },
        {
          "output_type": "stream",
          "name": "stderr",
          "text": [
            "/tmp/ipython-input-12-1526985050.py:9: FutureWarning: YF.download() has changed argument auto_adjust default to True\n",
            "  data = yf.download(\"AAPL\", start=\"2020-01-01\", end=\"2023-01-01\")\n",
            "\r[*********************100%***********************]  1 of 1 completed"
          ]
        },
        {
          "output_type": "stream",
          "name": "stdout",
          "text": [
            "Price        Close        High         Low        Open        Volume\n",
            "Ticker        AAPL        AAPL        AAPL        AAPL          AAPL\n",
            "count   756.000000  756.000000  756.000000  756.000000  7.560000e+02\n",
            "mean    127.633102  129.181519  125.971433  127.555152  1.120920e+08\n",
            "std      30.421463   30.698899   30.139550   30.449563  5.602586e+07\n",
            "min      54.378582   55.379535   51.528416   55.277744  3.519590e+07\n",
            "25%     112.709515  114.204952  111.251831  112.889666  7.636470e+07\n",
            "50%     133.010773  134.143863  131.050657  132.832322  9.493580e+07\n",
            "75%     148.221500  149.388580  146.276911  147.588786  1.296327e+08\n",
            "max     178.645615  179.558442  175.809046  179.254175  4.265100e+08\n"
          ]
        },
        {
          "output_type": "stream",
          "name": "stderr",
          "text": [
            "\n"
          ]
        }
      ],
      "source": [
        "# prompt: Load historical stock price data for Apple Inc. (AAPL) from 2020-01-01 to 2023-01-01 using Yahoo Finance and summarize its key statistics.\n",
        "\n",
        "!pip install yfinance\n",
        "\n",
        "import yfinance as yf\n",
        "import pandas as pd\n",
        "\n",
        "# Download historical data for AAPL from 2020-01-01 to 2023-01-01\n",
        "data = yf.download(\"AAPL\", start=\"2020-01-01\", end=\"2023-01-01\")\n",
        "\n",
        "# Summarize key statistics\n",
        "print(data.describe())"
      ]
    },
    {
      "cell_type": "code",
      "execution_count": 13,
      "metadata": {
        "colab": {
          "base_uri": "https://localhost:8080/"
        },
        "id": "tEuXvSCP6QWj",
        "outputId": "dae20ded-f01d-49ba-83c1-e46ac52dc8cf"
      },
      "outputs": [
        {
          "output_type": "stream",
          "name": "stderr",
          "text": [
            "/tmp/ipython-input-13-2222841701.py:6: FutureWarning: YF.download() has changed argument auto_adjust default to True\n",
            "  data = yf.download(\"AAPL\", start=\"2020-01-01\", end=\"2023-01-01\")\n",
            "\r[*********************100%***********************]  1 of 1 completed"
          ]
        },
        {
          "output_type": "stream",
          "name": "stdout",
          "text": [
            "Price        Close        High         Low        Open        Volume\n",
            "Ticker        AAPL        AAPL        AAPL        AAPL          AAPL\n",
            "count   756.000000  756.000000  756.000000  756.000000  7.560000e+02\n",
            "mean    127.633102  129.181519  125.971433  127.555152  1.120920e+08\n",
            "std      30.421463   30.698899   30.139550   30.449563  5.602586e+07\n",
            "min      54.378582   55.379535   51.528416   55.277744  3.519590e+07\n",
            "25%     112.709515  114.204952  111.251831  112.889666  7.636470e+07\n",
            "50%     133.010773  134.143863  131.050657  132.832322  9.493580e+07\n",
            "75%     148.221500  149.388580  146.276911  147.588786  1.296327e+08\n",
            "max     178.645615  179.558442  175.809046  179.254175  4.265100e+08\n"
          ]
        },
        {
          "output_type": "stream",
          "name": "stderr",
          "text": [
            "\n"
          ]
        }
      ],
      "source": [
        "# Prompt: Load historical stock price data for Apple Inc. (AAPL) from 2020-01-01 to 2023-01-01\n",
        "# using Yahoo Finance and summarize its key statistics.\n",
        "\n",
        "import yfinance as yf\n",
        "\n",
        "data = yf.download(\"AAPL\", start=\"2020-01-01\", end=\"2023-01-01\")\n",
        "\n",
        "# Summarize key statistics\n",
        "print(data.describe())"
      ]
    },
    {
      "cell_type": "markdown",
      "metadata": {
        "id": "mO9zmOSrj7b2"
      },
      "source": [
        "## Now try doing step 2 - step 5 by yourself\n",
        "\n",
        "The sample prompts and LLM responses are listed below for your reference."
      ]
    },
    {
      "cell_type": "markdown",
      "source": [],
      "metadata": {
        "id": "-B_S7o0sdO6f"
      }
    },
    {
      "cell_type": "code",
      "execution_count": 8,
      "metadata": {
        "id": "4Azv7KJQkStv"
      },
      "outputs": [],
      "source": []
    },
    {
      "cell_type": "markdown",
      "metadata": {
        "id": "KSb-lVTs67ir"
      },
      "source": [
        "# Sample Prompts and LLM Responses\n",
        "---\n",
        "\n",
        "## Step 1: Data Exploration\n",
        "\n",
        "### Prompt:\n",
        "> Load historical stock price data for Apple Inc. (AAPL) from 2020-01-01 to 2023-01-01 from Yahoo Finance, keep it in memory and summarize its key statistics.\n",
        "\n",
        "### LLM Response:\n",
        "- **Highest Closing Price:** \\$182.01 on January 3, 2022\n",
        "- **Lowest Closing Price:** \\$56.01 on March 23, 2020\n",
        "- **Average Closing Price:** \\$126.69\n",
        "- **Total Trading Days:** 756\n",
        "\n",
        "---\n",
        "\n",
        "## Step 2: Feature Engineering\n",
        "\n",
        "### Prompt:\n",
        "> Suggest some features that might help improve a stock price prediction model.\n",
        "\n",
        "### LLM Response:\n",
        "1. **Historical Prices**: Include past closing, opening, high, and low prices.\n",
        "2. **Volume**: Daily trading volumes.\n",
        "3. **Moving Averages**: Simple and exponential moving averages (e.g., 5-day, 10-day, 50-day).\n",
        "4. **Technical Indicators**: RSI, MACD, Bollinger Bands, etc.\n",
        "5. **Volatility**: Historical volatility, Average True Range (ATR).\n",
        "6. **Sentiment Analysis**: News articles, social media sentiment.\n",
        "7. **Economic Indicators**: Interest rates, inflation rates, GDP growth.\n",
        "8. **Time-based Features**: Day of the week, month, year.\n",
        "9. **Sector Performance**: Comparison with industry and sector indices.\n",
        "10. **External Events**: Major geopolitical events, earnings reports.\n",
        "\n",
        "---\n",
        "\n",
        "## Step 3.1: Model Building - Linear Regression\n",
        "\n",
        "### Prompt:\n",
        "> Adopt the first four kinds of features and train a regression model to predict tomorrow's stock price. Split your training and testing data by a 70/30 ratio and report your performance metric.\n",
        "\n",
        "### LLM Response:\n",
        "- **Mean Squared Error (MSE):** 859.04\n",
        "- **R-squared (R²) Score:** -0.009\n",
        "\n",
        "These metrics indicate that the model is not performing well, as an R² score close to zero or negative suggests that the model does not explain the variability in the target variable better than a simple mean of the target variable. This outcome suggests that the chosen features and model might need adjustments or improvements to enhance prediction accuracy. ​​\n",
        "\n",
        "---\n",
        "(It might be too hard to predict the exact price but how about ups and downs?)\n",
        "# Step 3.2: Model Building - Random Forest Classification\n",
        "\n",
        "### Prompt:\n",
        "> Create a binary target variable based on historical prices (1 if the close price increase tomorrow, 0 other), and train a Random Forest model using the same train/test split ratio. Report feature importance and performance metrics.\n",
        "\n",
        "### LLM Response:\n",
        "- **Accuracy:** 71.82%\n",
        "- **Confusion Matrix:** [[84, 26],\n",
        " [36, 74]]\n",
        "- **Classification Report:**\n",
        "\n",
        "              precision    recall  f1-score   support\n",
        "\n",
        "         0       0.70      0.76      0.73       110\n",
        "         1       0.74      0.67      0.70       110\n",
        "        accuracy                     0.72       220\n",
        "        macro avg    0.72      0.72      0.72       220\n",
        "        weighted avg  0.72      0.72      0.72       220\n",
        "\n",
        "\n",
        "\n",
        "- **Feature Importance:** The most important feature for predicting whether the price will increase or decrease the next day is the closing price, followed by the 5-day moving average (MA_5). The model achieved an accuracy of approximately 71.82%, indicating a reasonable performance for this classification task.\n",
        "         Feature\tImportance\n",
        "         Open\t   0.0900\n",
        "         High\t   0.0883\n",
        "         Low\t   0.0980\n",
        "         Close\t   0.3087\n",
        "         Volume\t    0.0982\n",
        "         MA_5\t   0.1242\n",
        "         MA_10\t   0.0974\n",
        "         MA_50\t   0.0951\n",
        "\n",
        "---\n",
        "\n",
        "## Step 4: Model Evaluation & Prediction\n",
        "### Prompt:\n",
        "> Use this model to predict stock price increase/decrease for period starting from 2023-01-01 to 2024-01-01. Report your performance metrics.\n",
        "\n",
        "### LLM Response:\n",
        "The Random Forest classifier's performance on the new test data from 2023-01-01 to 2024-01-01 is as follows:\n",
        "- **Accuracy:** 60.85%\n",
        "- **Confusion Matrix:** [[105,   0],\n",
        " [ 83,  24]]\n",
        "- **Classification Report:**\n",
        "\n",
        "            precision    recall  f1-score   support\n",
        "\n",
        "       0       0.56      1.00      0.72       105\n",
        "       1       1.00      0.22      0.37       107\n",
        "\n",
        "        accuracy                   0.61       212\n",
        "        macro avg  0.78     0.61       0.54       212\n",
        "        weighted avg 0.78    0.61        0.54       212\n",
        "\n",
        "---\n",
        "## Step 5: Strategy Discussion\n",
        "### Prompt:\n",
        "> What do you think about the performance of the model and what trading strategies could I build with this model?\n",
        "\n",
        "### LLM Response:\n",
        "- The model shows a moderate performance with an accuracy of approximately 60.85%. However, the precision and recall metrics indicate that while the model is good at identifying days when the stock price does not increase (class 0), it struggles significantly to identify days when the stock price does increase (class 1). This suggests a need for further feature engineering or model tuning to improve the prediction performance for this specific classification task.\n",
        "- Potential Trading Strategies\n",
        "Given the model's performance, potential trading strategies could be formulated as follows:\n",
        "\n",
        "#### Conservative Strategy:\n",
        "\n",
        "- **Focus**: Only trade on days when the model predicts a price increase with high confidence.\n",
        "- **Action**: Buy stocks when the model predicts an increase (class 1).\n",
        "- **Risk Management**: Since the model has a high precision for the no-increase class (class 0), it might be more reliable to stay out of the market when the model predicts no increase.\n",
        "\n",
        "#### Contrarian Strategy:\n",
        "\n",
        "- **Focus**: Take advantage of the model's high recall for no price increase predictions (class 0).\n",
        "- **Action**: Sell short or avoid buying stocks on days when the model predicts no increase.\n",
        "- **Risk Management**: This strategy assumes that the model’s predictions of no price increase are more reliable. It requires a careful assessment of market conditions to avoid false signals.\n",
        "\n",
        "#### Hybrid Strategy:\n",
        "\n",
        "- **Combine**: Use both conservative and contrarian strategies based on confidence thresholds.\n",
        "- **Action**: Set a higher threshold for buying (only buy when the predicted probability of price increase is significantly high) and a lower threshold for selling or staying out of the market.\n",
        "- **Risk Management**: Adjust thresholds dynamically based on recent model performance and market volatility.\n",
        "\n",
        "\n",
        "---\n",
        "## Conclusion\n",
        "\n",
        "Through this assignment, we have explored how LLMs can assist in complex machine learning tasks without requiring extensive coding knowledge. Key takeaways:\n",
        "\n",
        "- **Context Management**: LLMs have limited memory, so breaking tasks into smaller steps and reinforcing context is crucial.\n",
        "- **Feature Engineering with LLMs**: The model can suggest features but needs guidance on financial relevance.\n",
        "- **Modeling with LLMs**: LLMs can write and refine code, but human judgment is necessary to validate results.\n",
        "- **Real-world Limitations**: Stock price prediction remains challenging; models should be used critically and not solely relied upon for trading decisions.\n",
        "\n",
        "Next Steps:\n",
        "- Experiment with different LLMs and compare outputs.\n",
        "- Try refining feature engineering techniques.\n",
        "- Test alternative modeling approaches, such as deep learning or ensemble methods.\n",
        "\n"
      ]
    },
    {
      "cell_type": "code",
      "execution_count": 8,
      "metadata": {
        "id": "yLn1P90NYUNi"
      },
      "outputs": [],
      "source": []
    },
    {
      "cell_type": "code",
      "metadata": {
        "colab": {
          "base_uri": "https://localhost:8080/"
        },
        "id": "83e3bfae",
        "outputId": "e17b7323-07bc-429e-f21c-7e3454e3a215"
      },
      "source": [
        "# Feature Engineering: Add historical prices, volume, and moving averages\n",
        "\n",
        "data['Open_Lag1'] = data['Open'].shift(1)\n",
        "data['High_Lag1'] = data['High'].shift(1)\n",
        "data['Low_Lag1'] = data['Low'].shift(1)\n",
        "data['Close_Lag1'] = data['Close'].shift(1)\n",
        "data['Volume_Lag1'] = data['Volume'].shift(1)\n",
        "\n",
        "data['MA_5'] = data['Close'].rolling(window=5).mean()\n",
        "data['MA_10'] = data['Close'].rolling(window=10).mean()\n",
        "data['MA_50'] = data['Close'].rolling(window=50).mean()\n",
        "\n",
        "# Drop rows with NaN values created by shifting and rolling\n",
        "data.dropna(inplace=True)\n",
        "\n",
        "# Define features (X) and target (y)\n",
        "features = ['Open_Lag1', 'High_Lag1', 'Low_Lag1', 'Close_Lag1', 'Volume_Lag1', 'MA_5', 'MA_10', 'MA_50']\n",
        "target = 'Close' # Predict tomorrow's closing price\n",
        "\n",
        "X = data[features]\n",
        "y = data[target]\n",
        "\n",
        "# Split data into training and testing sets (70/30 ratio)\n",
        "from sklearn.model_selection import train_test_split\n",
        "\n",
        "X_train, X_test, y_train, y_test = train_test_split(X, y, test_size=0.3, random_state=42, shuffle=False)\n",
        "\n",
        "print(\"Training data shape:\", X_train.shape, y_train.shape)\n",
        "print(\"Testing data shape:\", X_test.shape, y_test.shape)"
      ],
      "execution_count": 9,
      "outputs": [
        {
          "output_type": "stream",
          "name": "stdout",
          "text": [
            "Training data shape: (494, 8) (494, 1)\n",
            "Testing data shape: (213, 8) (213, 1)\n"
          ]
        }
      ]
    },
    {
      "cell_type": "code",
      "metadata": {
        "colab": {
          "base_uri": "https://localhost:8080/"
        },
        "id": "2dd32573",
        "outputId": "e067b1d3-7ce9-45d5-8bdd-8fddf8385d7c"
      },
      "source": [
        "# Train a Linear Regression model\n",
        "\n",
        "from sklearn.linear_model import LinearRegression\n",
        "from sklearn.metrics import mean_squared_error, r2_score\n",
        "\n",
        "model = LinearRegression()\n",
        "model.fit(X_train, y_train)\n",
        "\n",
        "# Predict on the test set\n",
        "y_pred = model.predict(X_test)\n",
        "\n",
        "# Evaluate the model\n",
        "mse = mean_squared_error(y_test, y_pred)\n",
        "r2 = r2_score(y_test, y_pred)\n",
        "\n",
        "print(f\"Mean Squared Error (MSE): {mse:.2f}\")\n",
        "print(f\"R-squared (R²) Score: {r2:.2f}\")"
      ],
      "execution_count": 10,
      "outputs": [
        {
          "output_type": "stream",
          "name": "stdout",
          "text": [
            "Mean Squared Error (MSE): 8.44\n",
            "R-squared (R²) Score: 0.94\n"
          ]
        }
      ]
    },
    {
      "cell_type": "code",
      "metadata": {
        "id": "fefe3733"
      },
      "source": [
        "# Remove this code as it is causing errors"
      ],
      "execution_count": 29,
      "outputs": []
    },
    {
      "cell_type": "code",
      "metadata": {
        "id": "277f4b7f"
      },
      "source": [
        "# Remove this code as it is causing errors"
      ],
      "execution_count": 30,
      "outputs": []
    },
    {
      "cell_type": "code",
      "metadata": {
        "colab": {
          "base_uri": "https://localhost:8080/"
        },
        "id": "088d4cbd",
        "outputId": "3f83d8be-7364-4e09-94ea-1ddec1ddd3f0"
      },
      "source": [
        "# Create a binary target variable (1 if close price increases tomorrow, 0 otherwise)\n",
        "data['Price_Increase'] = (data['Close'].shift(-1) > data['Close']).astype(int)\n",
        "\n",
        "# Drop the last row as it will have NaN for the target variable\n",
        "data.dropna(inplace=True)\n",
        "\n",
        "# Define features (X) and target (y)\n",
        "# Using the same features as the regression model\n",
        "features = ['Open', 'High', 'Low', 'Close', 'Volume'] # Using basic historical features for simplicity first\n",
        "target = 'Price_Increase'\n",
        "\n",
        "X = data[features]\n",
        "y = data[target]\n",
        "\n",
        "# Split data into training and testing sets (70/30 ratio)\n",
        "from sklearn.model_selection import train_test_split\n",
        "\n",
        "X_train, X_test, y_train, y_test = train_test_split(X, y, test_size=0.3, random_state=42, shuffle=False)\n",
        "\n",
        "print(\"Training data shape:\", X_train.shape, y_train.shape)\n",
        "print(\"Testing data shape:\", X_test.shape, y_test.shape)"
      ],
      "execution_count": 35,
      "outputs": [
        {
          "output_type": "stream",
          "name": "stdout",
          "text": [
            "Training data shape: (705, 5) (705,)\n",
            "Testing data shape: (303, 5) (303,)\n"
          ]
        }
      ]
    },
    {
      "cell_type": "code",
      "metadata": {
        "colab": {
          "base_uri": "https://localhost:8080/"
        },
        "id": "cab10cd4",
        "outputId": "4d7ee732-82f7-48cd-c0a6-5a9eba0276ef"
      },
      "source": [
        "# Train a Random Forest Classifier model\n",
        "\n",
        "from sklearn.ensemble import RandomForestClassifier\n",
        "from sklearn.metrics import accuracy_score, classification_report\n",
        "\n",
        "model_rf = RandomForestClassifier(n_estimators=100, random_state=42)\n",
        "model_rf.fit(X_train, y_train)\n",
        "\n",
        "# Predict on the test set\n",
        "y_pred_rf = model_rf.predict(X_test)\n",
        "\n",
        "# Evaluate the model\n",
        "accuracy = accuracy_score(y_test, y_pred_rf)\n",
        "report = classification_report(y_test, y_pred_rf)\n",
        "\n",
        "print(f\"Accuracy: {accuracy:.2f}\")\n",
        "print(\"Classification Report:\")\n",
        "print(report)\n",
        "\n",
        "# Report feature importance\n",
        "feature_importance = pd.Series(model_rf.feature_importances_, index=features).sort_values(ascending=False)\n",
        "print(\"\\nFeature Importance:\")\n",
        "print(feature_importance)"
      ],
      "execution_count": 36,
      "outputs": [
        {
          "output_type": "stream",
          "name": "stdout",
          "text": [
            "Accuracy: 0.54\n",
            "Classification Report:\n",
            "              precision    recall  f1-score   support\n",
            "\n",
            "           0       0.54      0.79      0.64       156\n",
            "           1       0.56      0.29      0.38       147\n",
            "\n",
            "    accuracy                           0.54       303\n",
            "   macro avg       0.55      0.54      0.51       303\n",
            "weighted avg       0.55      0.54      0.51       303\n",
            "\n",
            "\n",
            "Feature Importance:\n",
            "Volume    0.229240\n",
            "High      0.197935\n",
            "Close     0.196932\n",
            "Open      0.192445\n",
            "Low       0.183448\n",
            "dtype: float64\n"
          ]
        }
      ]
    },
    {
      "cell_type": "code",
      "metadata": {
        "colab": {
          "base_uri": "https://localhost:8080/"
        },
        "id": "6f009fff",
        "outputId": "27cbb701-e898-42c7-84a1-8c771ae4c61d"
      },
      "source": [
        "# Download historical data for AAPL for the prediction period (2023-01-01 to 2024-01-01)\n",
        "prediction_data = yf.download(\"AAPL\", start=\"2023-01-01\", end=\"2024-01-01\")\n",
        "\n",
        "# Feature Engineering for the prediction data - apply the same features as used for training\n",
        "# Using only the basic historical features as the model was trained on these\n",
        "features = ['Open', 'High', 'Low', 'Close', 'Volume']\n",
        "\n",
        "# Create the actual target variable for the prediction period\n",
        "prediction_data['Price_Increase'] = (prediction_data['Close'].shift(-1) > prediction_data['Close']).astype(int)\n",
        "\n",
        "# Drop the last row as it will have NaN for the target variable\n",
        "prediction_data.dropna(inplace=True)\n",
        "\n",
        "# Define features (X_predict) and actual target (y_predict) for the prediction period\n",
        "target = 'Price_Increase'\n",
        "\n",
        "X_predict = prediction_data[features]\n",
        "y_predict = prediction_data[target]\n",
        "\n",
        "print(\"Prediction data shape:\", X_predict.shape, y_predict.shape)"
      ],
      "execution_count": 39,
      "outputs": [
        {
          "output_type": "stream",
          "name": "stderr",
          "text": [
            "/tmp/ipython-input-39-1933691476.py:2: FutureWarning: YF.download() has changed argument auto_adjust default to True\n",
            "  prediction_data = yf.download(\"AAPL\", start=\"2023-01-01\", end=\"2024-01-01\")\n",
            "\r[*********************100%***********************]  1 of 1 completed"
          ]
        },
        {
          "output_type": "stream",
          "name": "stdout",
          "text": [
            "Prediction data shape: (250, 5) (250,)\n"
          ]
        },
        {
          "output_type": "stream",
          "name": "stderr",
          "text": [
            "\n"
          ]
        }
      ]
    },
    {
      "cell_type": "code",
      "metadata": {
        "colab": {
          "base_uri": "https://localhost:8080/"
        },
        "id": "4697ae65",
        "outputId": "b3924bf2-2dc2-41e7-a568-7bae8d0e2b8f"
      },
      "source": [
        "# Make predictions on the prediction data\n",
        "y_pred_predict = model_rf.predict(X_predict)\n",
        "\n",
        "# Evaluate the model performance on the prediction data\n",
        "from sklearn.metrics import accuracy_score, classification_report, confusion_matrix\n",
        "\n",
        "accuracy_predict = accuracy_score(y_predict, y_pred_predict)\n",
        "report_predict = classification_report(y_predict, y_pred_predict)\n",
        "confusion_matrix_predict = confusion_matrix(y_predict, y_pred_predict)\n",
        "\n",
        "print(f\"Accuracy on prediction data: {accuracy_predict:.2f}\")\n",
        "print(\"\\nConfusion Matrix on prediction data:\")\n",
        "print(confusion_matrix_predict)\n",
        "print(\"\\nClassification Report on prediction data:\")\n",
        "print(report_predict)"
      ],
      "execution_count": 40,
      "outputs": [
        {
          "output_type": "stream",
          "name": "stdout",
          "text": [
            "Accuracy on prediction data: 0.50\n",
            "\n",
            "Confusion Matrix on prediction data:\n",
            "[[102   8]\n",
            " [117  23]]\n",
            "\n",
            "Classification Report on prediction data:\n",
            "              precision    recall  f1-score   support\n",
            "\n",
            "           0       0.47      0.93      0.62       110\n",
            "           1       0.74      0.16      0.27       140\n",
            "\n",
            "    accuracy                           0.50       250\n",
            "   macro avg       0.60      0.55      0.44       250\n",
            "weighted avg       0.62      0.50      0.42       250\n",
            "\n"
          ]
        }
      ]
    },
    {
      "cell_type": "markdown",
      "metadata": {
        "id": "44339f6a"
      },
      "source": [
        "## Model Performance and Trading Strategy Discussion\n",
        "\n",
        "Based on the evaluation of the Random Forest classification model on the prediction data from 2023-01-01 to 2024-01-01:\n",
        "\n",
        "**Model Performance:**\n",
        "\n",
        "The model achieved an overall accuracy of approximately 50%, which is close to random chance. The classification report revealed that the model is better at identifying days when the stock price is *not* likely to increase (high recall for class 0: 0.93) but struggles significantly to predict days when the price *will* increase (low recall for class 1: 0.16). While the precision for class 1 is higher (0.74), the low recall means it rarely makes a correct positive prediction.\n",
        "\n",
        "In summary, the model is not reliable for predicting upward price movements and its overall performance is not sufficient for making confident trading decisions.\n",
        "\n",
        "**Potential Trading Strategies (with significant caution):**\n",
        "\n",
        "Given the model's limitations, any trading strategy based on its predictions would be highly risky. Theoretical strategies, acknowledging these limitations, could include:\n",
        "\n",
        "1.  **Conservative \"Avoid Downside\" Strategy:** Focus on using the model's relatively higher recall for predicting no price increase (class 0) to potentially avoid buying or consider selling on those days. This aims to mitigate losses but would result in missed opportunities due to the lower precision for this class.\n",
        "\n",
        "2.  **Extremely Cautious \"High Precision Buy\" Strategy:** A highly speculative approach could be to only consider buying when the model predicts a price increase (class 1) with a very high probability threshold. This strategy would yield very few trades due to the low recall for class 1 and still carries substantial risk.\n",
        "\n",
        "**Critical Considerations:**\n",
        "\n",
        "This analysis reinforces the difficulty of stock price prediction. The simple features and model used are not adequate to capture market complexities. Relying on a model with this performance for real-world trading is not advisable and could lead to significant financial losses. Improving the model would require exploring more advanced techniques, incorporating a broader range of features (including external economic and market indicators), and conducting rigorous backtesting and validation."
      ]
    }
  ],
  "metadata": {
    "colab": {
      "provenance": [],
      "include_colab_link": true
    },
    "kernelspec": {
      "display_name": "Python 3 (ipykernel)",
      "language": "python",
      "name": "python3"
    },
    "language_info": {
      "codemirror_mode": {
        "name": "ipython",
        "version": 3
      },
      "file_extension": ".py",
      "mimetype": "text/x-python",
      "name": "python",
      "nbconvert_exporter": "python",
      "pygments_lexer": "ipython3",
      "version": "3.12.7"
    }
  },
  "nbformat": 4,
  "nbformat_minor": 0
}